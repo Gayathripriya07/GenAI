{
  "nbformat": 4,
  "nbformat_minor": 0,
  "metadata": {
    "colab": {
      "provenance": []
    },
    "kernelspec": {
      "name": "python3",
      "display_name": "Python 3"
    },
    "language_info": {
      "name": "python"
    }
  },
  "cells": [
    {
      "cell_type": "code",
      "execution_count": null,
      "metadata": {
        "colab": {
          "base_uri": "https://localhost:8080/"
        },
        "id": "8wmANfu0S5Fc",
        "outputId": "a3cb97b6-fcac-4129-9a7d-803031afa1a7"
      },
      "outputs": [
        {
          "output_type": "stream",
          "name": "stdout",
          "text": [
            "A morning walk boosts your energy, wakes up your body\n"
          ]
        }
      ],
      "source": [
        "from transformers import T5ForConditionalGeneration, T5Tokenizer\n",
        "\n",
        "tokenizer = T5Tokenizer.from_pretrained(\"Ivanhoe9/finetune_T5_small_title_generation_NLP_cours\")\n",
        "model = T5ForConditionalGeneration.from_pretrained(\"Ivanhoe9/finetune_T5_small_title_generation_NLP_cours\")\n",
        "article = \"\"\"A morning walk is one of the best ways to start your day. It wakes up your body, clears your mind, and boosts your energy. Walking in the fresh morning air helps improve your mood and reduces stress.\n",
        "Regular morning walks support heart health, improve circulation, and help maintain a healthy weight. They also improve mental clarity and creativity, setting a positive tone for the rest of the day.\n",
        "Even a short 20-minute walk can make a difference. It’s free, easy, and doesn’t require any special equipment. So lace up your shoes, step outside, and enjoy the many physical and mental benefits of a morning walk..\"\"\"\n",
        "input_text = \"Generate a title: \" + article\n",
        "input_ids = tokenizer.encode(input_text, return_tensors=\"pt\")\n",
        "# Generate title\n",
        "generated_ids = model.generate(input_ids, max_length=30, num_beams=4, early_stopping=True)\n",
        "title = tokenizer.decode(generated_ids[0], skip_special_tokens=True)\n",
        "print(title)\n"
      ]
    }
  ]
}